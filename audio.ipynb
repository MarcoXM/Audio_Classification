{
  "nbformat": 4,
  "nbformat_minor": 0,
  "metadata": {
    "colab": {
      "name": "audio.ipynb",
      "version": "0.3.2",
      "provenance": [],
      "include_colab_link": true
    },
    "kernelspec": {
      "name": "python3",
      "display_name": "Python 3"
    },
    "accelerator": "GPU"
  },
  "cells": [
    {
      "cell_type": "markdown",
      "metadata": {
        "id": "view-in-github",
        "colab_type": "text"
      },
      "source": [
        "<a href=\"https://colab.research.google.com/github/MarcoXM/Audiotest/blob/master/audio.ipynb\" target=\"_parent\"><img src=\"https://colab.research.google.com/assets/colab-badge.svg\" alt=\"Open In Colab\"/></a>"
      ]
    },
    {
      "cell_type": "code",
      "metadata": {
        "id": "o9DcdopEH8CP",
        "colab_type": "code",
        "outputId": "4d5bb551-620e-4e13-8b25-b4c47fd3310b",
        "colab": {
          "base_uri": "https://localhost:8080/",
          "height": 360
        }
      },
      "source": [
        "!nvidia-smi # Showing the Colab notebook info\n",
        "from google.colab import drive\n",
        "drive.mount('/content/drive/')"
      ],
      "execution_count": 0,
      "outputs": [
        {
          "output_type": "stream",
          "text": [
            "Mon Jun 24 20:24:02 2019       \n",
            "+-----------------------------------------------------------------------------+\n",
            "| NVIDIA-SMI 418.67       Driver Version: 410.79       CUDA Version: 10.0     |\n",
            "|-------------------------------+----------------------+----------------------+\n",
            "| GPU  Name        Persistence-M| Bus-Id        Disp.A | Volatile Uncorr. ECC |\n",
            "| Fan  Temp  Perf  Pwr:Usage/Cap|         Memory-Usage | GPU-Util  Compute M. |\n",
            "|===============================+======================+======================|\n",
            "|   0  Tesla T4            Off  | 00000000:00:04.0 Off |                    0 |\n",
            "| N/A   49C    P8    16W /  70W |      0MiB / 15079MiB |      0%      Default |\n",
            "+-------------------------------+----------------------+----------------------+\n",
            "                                                                               \n",
            "+-----------------------------------------------------------------------------+\n",
            "| Processes:                                                       GPU Memory |\n",
            "|  GPU       PID   Type   Process name                             Usage      |\n",
            "|=============================================================================|\n",
            "|  No running processes found                                                 |\n",
            "+-----------------------------------------------------------------------------+\n",
            "Drive already mounted at /content/drive/; to attempt to forcibly remount, call drive.mount(\"/content/drive/\", force_remount=True).\n",
            "drive  sample_data\n"
          ],
          "name": "stdout"
        }
      ]
    },
    {
      "cell_type": "markdown",
      "metadata": {
        "id": "WWkELRx_OEVm",
        "colab_type": "text"
      },
      "source": [
        "## Setting the working directory!"
      ]
    },
    {
      "cell_type": "code",
      "metadata": {
        "id": "l1UbJSUQJPti",
        "colab_type": "code",
        "outputId": "6040ab05-cc84-42e9-839b-e6bffafbcfa2",
        "colab": {
          "base_uri": "https://localhost:8080/",
          "height": 34
        }
      },
      "source": [
        "import os\n",
        "os.chdir('/content/drive/My Drive/Audio') \n",
        "cwd = os.getcwd()\n",
        "cwd"
      ],
      "execution_count": 0,
      "outputs": [
        {
          "output_type": "execute_result",
          "data": {
            "text/plain": [
              "'/content/drive/My Drive/Audio'"
            ]
          },
          "metadata": {
            "tags": []
          },
          "execution_count": 2
        }
      ]
    },
    {
      "cell_type": "code",
      "metadata": {
        "id": "NatBK0nwLiHQ",
        "colab_type": "code",
        "colab": {}
      },
      "source": [
        "import pandas as pd\n",
        "import torch \n",
        "import numpy as np\n",
        "import matplotlib.pyplot as plt \n",
        "import librosa\n",
        "import librosa.display\n",
        "%matplotlib inline\n",
        "import os\n",
        "from PIL import Image\n",
        "import pathlib\n",
        "import csv\n",
        "\n",
        "# Preprocessing\n",
        "from sklearn.model_selection import train_test_split\n",
        "from sklearn.preprocessing import LabelEncoder, StandardScaler\n",
        "\n",
        "#Keras\n",
        "import keras\n",
        "import warnings\n",
        "warnings.filterwarnings('ignore')\n"
      ],
      "execution_count": 0,
      "outputs": []
    },
    {
      "cell_type": "markdown",
      "metadata": {
        "id": "WQAf_5S1w-wm",
        "colab_type": "text"
      },
      "source": [
        "## Extracting music and features\n",
        "Dataset\n",
        "We use [Urban Sound Classification](https://www.kaggle.com/pavansanagapati/urban-sound-classification)\n",
        "\n",
        "10 classes of audie files "
      ]
    },
    {
      "cell_type": "code",
      "metadata": {
        "id": "3uJVbb0DLiUD",
        "colab_type": "code",
        "outputId": "482acca2-01b4-4124-8249-d8af9fb2d292",
        "colab": {
          "base_uri": "https://localhost:8080/",
          "height": 34
        }
      },
      "source": [
        "#testing loading the audio by Librosa\n",
        "%notebook inline\n",
        "data, samplerate = librosa.load('Train/224.wav') \n",
        "samplerate  #default sampling rate is 22050"
      ],
      "execution_count": 0,
      "outputs": [
        {
          "output_type": "execute_result",
          "data": {
            "text/plain": [
              "22050"
            ]
          },
          "metadata": {
            "tags": []
          },
          "execution_count": 12
        }
      ]
    },
    {
      "cell_type": "code",
      "metadata": {
        "id": "DnDqFWwHO89A",
        "colab_type": "code",
        "outputId": "11944113-861c-4198-b589-55276bcb77e5",
        "colab": {
          "base_uri": "https://localhost:8080/",
          "height": 193
        }
      },
      "source": [
        "# Plot the graph of the audie file\n",
        "plt.figure(figsize=(15,2))\n",
        "librosa.display.waveplot(data,sr= samplerate)"
      ],
      "execution_count": 0,
      "outputs": [
        {
          "output_type": "execute_result",
          "data": {
            "text/plain": [
              "<matplotlib.collections.PolyCollection at 0x7fad62eb1d30>"
            ]
          },
          "metadata": {
            "tags": []
          },
          "execution_count": 13
        },
        {
          "output_type": "display_data",
          "data": {
            "image/png": "[encoded data removed]",
            "text/plain": [
              "<Figure size 1080x144 with 1 Axes>"
            ]
          },
          "metadata": {
            "tags": []
          }
        }
      ]
    },
    {
      "cell_type": "markdown",
      "metadata": {
        "id": "ELD-zyfIoIT9",
        "colab_type": "text"
      },
      "source": [
        "## Exploring the features of an audio file :\n",
        "\n",
        "> typicallly when we using a collection of measurements to define a audio:\n",
        "\n",
        "> 1. [Zero Crossing Rate ](https://en.wikipedia.org/wiki/Zero-crossing_rate) : The zero crossing rate is the rate of sign-changes along a signal, i.e., the rate at which the signal changes from positive to negative or back. \n",
        "> 2. [Spectral Centroid](https://en.wikipedia.org/wiki/Spectral_centroid): It indicates where the ”centre of mass” for a sound is located and is calculated as the weighted mean of the frequencies present in the sound.\n",
        "> 3. [Spectral Rolloff]() It is a measure of the shape of the signal. It represents the frequency below which a specified percentage of the total spectral energy, e.g. 85%, lies.\n",
        "> 4.[Mel-frequency cepstrum\n",
        "](https://en.wikipedia.org/wiki/Mel-frequency_cepstrum) : Chroma features are an interesting and powerful representation for music audio in which the entire spectrum is projected onto 12 bins representing the 12 distinct semitones (or chroma) of the musical octave.\n",
        "> 5. [Chroma Frequencies](https://labrosa.ee.columbia.edu/matlab/chroma-ansyn/) : Chroma features are an interesting and powerful representation for music audio in which the entire spectrum is projected onto 12 bins representing the 12 distinct semitones (or chroma) of the musical octave.\n"
      ]
    },
    {
      "cell_type": "code",
      "metadata": {
        "id": "zc7Rh74Y0blt",
        "colab_type": "code",
        "outputId": "993058fd-204d-45d3-e3c1-bb2391b03415",
        "colab": {
          "base_uri": "https://localhost:8080/",
          "height": 34
        }
      },
      "source": [
        "######################\n",
        "# Zero Crossing Rate##\n",
        "######################\n",
        "\n",
        "zcr = librosa.feature.zero_crossing_rate(data)\n",
        "zcr.shape"
      ],
      "execution_count": 0,
      "outputs": [
        {
          "output_type": "execute_result",
          "data": {
            "text/plain": [
              "(1, 173)"
            ]
          },
          "metadata": {
            "tags": []
          },
          "execution_count": 23
        }
      ]
    },
    {
      "cell_type": "code",
      "metadata": {
        "id": "CFMb0xJrAktt",
        "colab_type": "code",
        "outputId": "bce7209a-26de-4d25-bb77-18804b02640e",
        "colab": {
          "base_uri": "https://localhost:8080/",
          "height": 34
        }
      },
      "source": [
        "##################\n",
        "# Spectral Centroid\n",
        "spectral_centroids = librosa.feature.spectral_centroid(data, sr=samplerate)\n",
        "spectral_centroids.shape"
      ],
      "execution_count": 0,
      "outputs": [
        {
          "output_type": "execute_result",
          "data": {
            "text/plain": [
              "(1, 173)"
            ]
          },
          "metadata": {
            "tags": []
          },
          "execution_count": 20
        }
      ]
    },
    {
      "cell_type": "code",
      "metadata": {
        "id": "3fqmPQeXBUMk",
        "colab_type": "code",
        "outputId": "348c4f05-6950-404d-cd72-71e351e8bb24",
        "colab": {
          "base_uri": "https://localhost:8080/",
          "height": 34
        }
      },
      "source": [
        "#################\n",
        "#Spectral Rolloff\n",
        "spectral_rolloff = librosa.feature.spectral_rolloff(data+0.01, sr=samplerate)\n",
        "spectral_rolloff.shape"
      ],
      "execution_count": 0,
      "outputs": [
        {
          "output_type": "execute_result",
          "data": {
            "text/plain": [
              "(1, 173)"
            ]
          },
          "metadata": {
            "tags": []
          },
          "execution_count": 22
        }
      ]
    },
    {
      "cell_type": "code",
      "metadata": {
        "id": "hUGgVRBPIy33",
        "colab_type": "code",
        "outputId": "ab196bbe-04eb-4ada-fb8b-5aed18375169",
        "colab": {
          "base_uri": "https://localhost:8080/",
          "height": 34
        }
      },
      "source": [
        "#################\n",
        "##Chroma Frequencies\n",
        "mfccs = librosa.feature.mfcc(data, sr=samplerate) # default 20 \n",
        "mfccs.shape"
      ],
      "execution_count": 0,
      "outputs": [
        {
          "output_type": "execute_result",
          "data": {
            "text/plain": [
              "(20, 173)"
            ]
          },
          "metadata": {
            "tags": []
          },
          "execution_count": 24
        }
      ]
    },
    {
      "cell_type": "code",
      "metadata": {
        "id": "Zrko-bGa-QZT",
        "colab_type": "code",
        "outputId": "d1c48f0d-d15a-4b3a-a79a-9180f2dec709",
        "colab": {
          "base_uri": "https://localhost:8080/",
          "height": 34
        }
      },
      "source": [
        "#################\n",
        "##Chroma Frequencies\n",
        "chromagram = librosa.feature.chroma_stft(data, sr=samplerate)\n",
        "chromagram.shape"
      ],
      "execution_count": 0,
      "outputs": [
        {
          "output_type": "execute_result",
          "data": {
            "text/plain": [
              "(12, 173)"
            ]
          },
          "metadata": {
            "tags": []
          },
          "execution_count": 25
        }
      ]
    },
    {
      "cell_type": "code",
      "metadata": {
        "id": "HcklMuHy0csz",
        "colab_type": "code",
        "outputId": "18fff0db-407e-4ca6-f2b1-f4dd49e5fc2c",
        "colab": {
          "base_uri": "https://localhost:8080/",
          "height": 34
        }
      },
      "source": [
        "###### concat these 5 kinds of data \n",
        "audio_representation = np.vstack([zcr,spectral_centroids,spectral_rolloff,mfccs,chromagram])\n",
        "audio_representation.shape "
      ],
      "execution_count": 0,
      "outputs": [
        {
          "output_type": "execute_result",
          "data": {
            "text/plain": [
              "(35, 173)"
            ]
          },
          "metadata": {
            "tags": []
          },
          "execution_count": 26
        }
      ]
    },
    {
      "cell_type": "markdown",
      "metadata": {
        "id": "bFvLZutgLcWf",
        "colab_type": "text"
      },
      "source": [
        "Finailly for each song, we can transform into a matrix , the first dimension of audio features ,the second one is the timesteps!! \n",
        "\n",
        "So we have to make sure we have a same time step!"
      ]
    },
    {
      "cell_type": "markdown",
      "metadata": {
        "id": "JPHvSCyKPF_O",
        "colab_type": "text"
      },
      "source": [
        "## Transform audio files into numeric data with same time step "
      ]
    },
    {
      "cell_type": "code",
      "metadata": {
        "id": "a8rQxXkhO9Iv",
        "colab_type": "code",
        "colab": {}
      },
      "source": [
        "def path2tensor(filename,test = False):\n",
        "    \n",
        "    if test:\n",
        "        df = pd.read_csv(filename)\n",
        "        classes = list(df.Class)[:10]\n",
        "        fileslist = [os.path.join('Train/' + str(x) +'.wav') for x in list(df.ID)][:10]\n",
        "        data_and_sample = [(librosa.load(name))for name in fileslist]\n",
        "        \n",
        "        tensor = []\n",
        "        labels =[]\n",
        "        n = -1\n",
        "        for x,y in data_and_sample:\n",
        "            n += 1\n",
        "            mat = np.vstack([librosa.feature.zero_crossing_rate(x),\n",
        "                                librosa.feature.spectral_centroid(x, sr=y),\n",
        "                                librosa.feature.spectral_rolloff(x + 0.01, sr = y),\n",
        "                                librosa.feature.mfcc(x, sr=y),\n",
        "                                librosa.feature.chroma_stft(x, sr=y)])\n",
        "            if mat.shape[1] == 173:\n",
        "                tensor.append(mat)\n",
        "                labels.append(classes[n])\n",
        "       \n",
        "    else:\n",
        "        df = pd.read_csv(filename)\n",
        "        classes = list(df.Class)\n",
        "        fileslist = [os.path.join('Train/' + str(x) +'.wav') for x in list(df.ID)]\n",
        "        data_and_sample = [(librosa.load(name))for name in fileslist]\n",
        "        \n",
        "        tensor = []\n",
        "        labels =[]\n",
        "        n = -1\n",
        "        for x,y in data_and_sample:\n",
        "            n += 1\n",
        "            mat = np.vstack([librosa.feature.zero_crossing_rate(x),\n",
        "                                librosa.feature.spectral_centroid(x, sr=y),\n",
        "                                librosa.feature.spectral_rolloff(x + 0.01, sr = y),\n",
        "                                librosa.feature.mfcc(x, sr=y),\n",
        "                                librosa.feature.chroma_stft(x, sr=y)])\n",
        "            if mat.shape[1] == 173:\n",
        "                tensor.append(mat)\n",
        "                labels.append(classes[n])\n",
        "            \n",
        "\n",
        "    return tensor,labels\n"
      ],
      "execution_count": 0,
      "outputs": []
    },
    {
      "cell_type": "code",
      "metadata": {
        "id": "76G_ytdzPQGI",
        "colab_type": "code",
        "outputId": "27fe94a7-3af5-42ea-f6e3-d72c1e8ec189",
        "colab": {
          "base_uri": "https://localhost:8080/",
          "height": 238
        }
      },
      "source": [
        "# test\n",
        "Traindata,y = path2tensor('train.csv',test=True)\n",
        "Traindata[2],y[2] "
      ],
      "execution_count": 0,
      "outputs": [
        {
          "output_type": "execute_result",
          "data": {
            "text/plain": [
              "(array([[4.98046875e-02, 6.93359375e-02, 9.66796875e-02, ...,\n",
              "         4.21875000e-01, 3.39843750e-01, 2.39257812e-01],\n",
              "        [2.79472499e+03, 2.46965673e+03, 2.40275029e+03, ...,\n",
              "         4.81767291e+03, 4.73581813e+03, 4.61631352e+03],\n",
              "        [3.97287598e+03, 3.43454590e+03, 3.47761230e+03, ...,\n",
              "         8.89321289e+03, 8.71018066e+03, 8.43024902e+03],\n",
              "        ...,\n",
              "        [6.37821517e-01, 1.28877844e-01, 5.39348678e-02, ...,\n",
              "         9.74874114e-01, 9.94544078e-01, 1.00000000e+00],\n",
              "        [5.68512071e-01, 1.39460635e-01, 6.20144821e-02, ...,\n",
              "         9.57815576e-01, 9.52742490e-01, 6.40289450e-01],\n",
              "        [4.14784508e-01, 1.19281488e-01, 6.26671375e-02, ...,\n",
              "         6.24958883e-01, 6.07631914e-01, 4.15017165e-01]]), 'drilling')"
            ]
          },
          "metadata": {
            "tags": []
          },
          "execution_count": 63
        }
      ]
    },
    {
      "cell_type": "code",
      "metadata": {
        "id": "DC1MXtcIYBQu",
        "colab_type": "code",
        "outputId": "57681006-aeed-4bf5-d418-d9fe95aa854d",
        "colab": {
          "base_uri": "https://localhost:8080/",
          "height": 34
        }
      },
      "source": [
        "Traindata[2].shape # One Audio file has been transform into a time series data with 173 time step, which is suitable for RNN model"
      ],
      "execution_count": 0,
      "outputs": [
        {
          "output_type": "execute_result",
          "data": {
            "text/plain": [
              "(35, 173)"
            ]
          },
          "metadata": {
            "tags": []
          },
          "execution_count": 64
        }
      ]
    }
  ]
}